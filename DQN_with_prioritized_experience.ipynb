{
 "cells": [
  {
   "cell_type": "markdown",
   "id": "9192728a",
   "metadata": {},
   "source": [
    "## Abstract:  (1page)\n",
    "1. Problem general: MSA \n",
    "2. Related work & SOTA: heuristics tal Zhang's DQN \n",
    "3. problem specific: problems of DQN and of DQN for MSA (speed of convergence, etc.)\n",
    "4. objectif: mitigate/solve that problem\n",
    "5. Methods: Prioritized experience replay (DQN), why ? (theoretical justification)\n",
    "6. Results: reward o speed li kherjo lina (b code Open-source)\n",
    "7. Conclusion: P-DQN ma mselkch f had domaine, malgré mselek f la majorité des autres domaines\n",
    "\n",
    "\n",
    "## Introduction:  (3page)\n",
    "\n",
    "1. Problem general\n",
    "2. SOTA\n",
    "3. problem specific\n",
    "4. objectif\n",
    "\n",
    "## Methods  (5page)\n",
    "\n",
    "\n",
    "\n",
    "## Results   (3page)\n",
    "\n",
    "\n",
    "\n",
    "## Discussion  (2page)\n",
    "* ay experiment secondaires\n",
    "* ga3 hyperparamaeters (alpha etc. li essayina)\n",
    "* graph o commentaires\n",
    "\n",
    "## Conclusion  (1page)\n",
    "\n",
    "\n",
    "## Refs  (2page)"
   ]
  },
  {
   "cell_type": "code",
   "execution_count": null,
   "id": "b3ad2229",
   "metadata": {},
   "outputs": [],
   "source": [
    "17 pages"
   ]
  },
  {
   "cell_type": "code",
   "execution_count": null,
   "id": "1dd37846",
   "metadata": {},
   "outputs": [],
   "source": []
  },
  {
   "cell_type": "code",
   "execution_count": null,
   "id": "695c6b0d",
   "metadata": {},
   "outputs": [],
   "source": []
  },
  {
   "cell_type": "code",
   "execution_count": null,
   "id": "29166dbb",
   "metadata": {},
   "outputs": [],
   "source": []
  },
  {
   "cell_type": "code",
   "execution_count": null,
   "id": "16b2424b",
   "metadata": {},
   "outputs": [],
   "source": []
  },
  {
   "cell_type": "code",
   "execution_count": null,
   "id": "47f343fb",
   "metadata": {},
   "outputs": [],
   "source": []
  },
  {
   "cell_type": "code",
   "execution_count": null,
   "id": "e1130c62",
   "metadata": {},
   "outputs": [],
   "source": []
  },
  {
   "cell_type": "code",
   "execution_count": null,
   "id": "c9da2e65",
   "metadata": {},
   "outputs": [],
   "source": []
  },
  {
   "cell_type": "code",
   "execution_count": null,
   "id": "f22af6d9",
   "metadata": {},
   "outputs": [],
   "source": []
  },
  {
   "cell_type": "code",
   "execution_count": null,
   "id": "f049f1d1",
   "metadata": {},
   "outputs": [],
   "source": []
  },
  {
   "cell_type": "code",
   "execution_count": null,
   "id": "d2d50da6",
   "metadata": {},
   "outputs": [],
   "source": []
  },
  {
   "cell_type": "code",
   "execution_count": 1,
   "id": "a3977bb2",
   "metadata": {},
   "outputs": [],
   "source": [
    "import config\n",
    "from env import Environment\n",
    "from models import Encoder"
   ]
  },
  {
   "cell_type": "code",
   "execution_count": 2,
   "id": "ddf25a75",
   "metadata": {},
   "outputs": [],
   "source": [
    "import torch\n",
    "import torch.nn as nn\n",
    "import numpy as np\n",
    "import random\n",
    "import os\n",
    "from collections import deque"
   ]
  },
  {
   "cell_type": "code",
   "execution_count": null,
   "id": "113d66f4",
   "metadata": {},
   "outputs": [],
   "source": []
  },
  {
   "cell_type": "code",
   "execution_count": 4,
   "id": "c9dc2605",
   "metadata": {},
   "outputs": [],
   "source": [
    "class PrioritizedReplayMemory:\n",
    "    def __init__(self, capacity, alpha=0.6, beta=0.4, beta_increment_per_sampling=0.001):\n",
    "        self.capacity = capacity\n",
    "        self.alpha = alpha\n",
    "        self.beta = beta\n",
    "        self.beta_increment_per_sampling = beta_increment_per_sampling\n",
    "        self.buffer = deque(maxlen=capacity)\n",
    "        self.priorities = deque(maxlen=capacity)\n",
    "        self.max_priority = 1.0\n",
    "\n",
    "    def push(self, transition):\n",
    "        self.buffer.append(transition)\n",
    "        self.priorities.append(self.max_priority)\n",
    "\n",
    "    def sample(self, batch_size):\n",
    "        priorities = np.array(self.priorities)\n",
    "        probabilities = priorities ** self.alpha\n",
    "        probabilities /= probabilities.sum()\n",
    "        \n",
    "        indices = np.random.choice(len(self.buffer), batch_size, p=probabilities)\n",
    "        samples = [self.buffer[index] for index in indices]\n",
    "\n",
    "        weights = (len(self.buffer) * probabilities[indices]) ** (-self.beta)\n",
    "        weights /= weights.max()\n",
    "        self.beta = min(1.0, self.beta + self.beta_increment_per_sampling)\n",
    "\n",
    "        state, next_state, action, reward, done = [], [], [], [], []\n",
    "\n",
    "        for i in range(batch_size):\n",
    "            s, ns, a, r, d = samples[i]\n",
    "            state.append(s)\n",
    "            next_state.append(ns)\n",
    "            action.append(a)\n",
    "            reward.append(r)\n",
    "            done.append(d)\n",
    "\n",
    "        return state, next_state, action, reward, done, indices, weights\n",
    "\n",
    "    def update_priorities(self, indices, errors, epsilon=1e-6):\n",
    "        for index, error in zip(indices, errors):\n",
    "            priority = abs(error) + epsilon\n",
    "            self.priorities[index] = priority\n",
    "            self.max_priority = max(self.max_priority, priority)\n",
    "\n",
    "    def __len__(self):\n",
    "        return len(self.buffer)\n",
    "\n",
    "    @property\n",
    "    def size(self):\n",
    "        return len(self.buffer)\n"
   ]
  },
  {
   "cell_type": "code",
   "execution_count": 5,
   "id": "dae47391",
   "metadata": {},
   "outputs": [],
   "source": [
    "class Net(nn.Module):\n",
    "    \"\"\"docstring for Net\"\"\"\n",
    "\n",
    "    def __init__(self, seq_num, max_seq_len, action_number, max_value, d_model=64):\n",
    "        super(Net, self).__init__()\n",
    "        self.max_value = max_value\n",
    "        dim = seq_num * (max_seq_len + 1)\n",
    "        # layers:\n",
    "        self.encoder = Encoder(6, d_model, dim)\n",
    "        self.dropout = nn.Dropout()\n",
    "        self.l1 = nn.Linear(dim * d_model, 1028)\n",
    "        self.f1 = nn.LeakyReLU()\n",
    "        self.l2 = nn.Linear(1028, 512)\n",
    "        self.f2 = nn.LeakyReLU()\n",
    "        self.l3 = nn.Linear(512, action_number)\n",
    "        self.f3 = nn.Tanh()\n",
    "\n",
    "        self.mask = lambda x, y: (x != y).unsqueeze(-2)\n",
    "\n",
    "    def forward(self, x):\n",
    "        x = self.encoder(x, self.mask(x, 0))\n",
    "        # x = self.dropout(x)\n",
    "        x = x.view(x.size()[0], -1)\n",
    "        x = self.f1(self.l1(x))\n",
    "        x = self.f2(self.l2(x))\n",
    "        x = self.f3(self.l3(x))\n",
    "        x = torch.mul(x, self.max_value)\n",
    "\n",
    "        return x\n",
    "\n",
    "\n",
    "class DQN_PER:\n",
    "    def __init__(self, action_number, seq_num, max_seq_len, max_value):\n",
    "        super(DQN_PER, self).__init__()\n",
    "        self.seq_num = seq_num\n",
    "        self.max_seq_len = max_seq_len\n",
    "        self.action_number = action_number\n",
    "\n",
    "        self.eval_net = Net(seq_num, max_seq_len, action_number, max_value).to(config.device)\n",
    "        self.target_net = Net(seq_num, max_seq_len, action_number, max_value).to(config.device)\n",
    "\n",
    "        self.current_epsilon = config.epsilon\n",
    "\n",
    "        self.update_step_counter = 0\n",
    "        self.epsilon_step_counter = 0\n",
    "\n",
    "        self.replay_memory = PrioritizedReplayMemory(config.replay_memory_size, config.alpha)\n",
    "        self.optimizer = torch.optim.Adam(self.eval_net.parameters(), lr=config.alpha)\n",
    "        self.loss_func = nn.SmoothL1Loss()\n",
    "\n",
    "    def update_epsilon(self):\n",
    "        self.epsilon_step_counter += 1\n",
    "        if self.epsilon_step_counter % config.decrement_iteration == 0:\n",
    "            self.current_epsilon = max(0, self.current_epsilon - config.delta)\n",
    "\n",
    "    def select(self, state):\n",
    "        if random.random() <= self.current_epsilon:\n",
    "            action = np.random.randint(0, self.action_number)\n",
    "        else:\n",
    "            action_val = self.eval_net.forward(torch.LongTensor(state).unsqueeze_(0).to(config.device))\n",
    "            action = torch.argmax(action_val, 1).cpu().data.numpy()[0]\n",
    "\n",
    "        return action\n",
    "\n",
    "    def predict(self, state):\n",
    "        action_val = self.eval_net.forward(torch.LongTensor(state).unsqueeze_(0).to(config.device))\n",
    "        return torch.argmax(action_val, 1).cpu().data.numpy()[0]\n",
    "\n",
    "    def update(self):\n",
    "        self.update_step_counter += 1\n",
    "        if self.update_step_counter % config.update_iteration == 0:\n",
    "            self.target_net.load_state_dict(self.eval_net.state_dict())\n",
    "\n",
    "        if self.replay_memory.size < config.batch_size:\n",
    "            return\n",
    "\n",
    "        state, next_state, action, reward, done, indices, weights = self.replay_memory.sample(config.batch_size)\n",
    "\n",
    "        batch_state = torch.LongTensor(state).to(config.device)\n",
    "        batch_next_state = torch.LongTensor(next_state).to(config.device)\n",
    "        batch_action = torch.LongTensor(action).to(config.device)\n",
    "        batch_reward = torch.FloatTensor(reward).to(config.device)\n",
    "        batch_done = torch.FloatTensor(done).to(config.device)\n",
    "        batch_weights = torch.FloatTensor(weights).to(config.device)\n",
    "\n",
    "        q_eval = self.eval_net(batch_state).gather(1, batch_action.unsqueeze_(-1)).squeeze_(1).to(config.device)\n",
    "\n",
    "        q_next = self.target_net(batch_next_state).max(1)[0].to(config.device).detach_()\n",
    "        q_target = batch_reward + batch_done * config.gamma * q_next\n",
    "\n",
    "        loss = self.loss_func(q_eval, q_target)\n",
    "        loss = (loss * batch_weights).mean()\n",
    "        self.optimizer.zero_grad()\n",
    "        loss.backward()\n",
    "        self.optimizer.step()\n",
    "\n",
    "        # Update priorities\n",
    "        errors = torch.abs(q_target - q_eval).detach().cpu().numpy()\n",
    "        self.replay_memory.update_priorities(indices, errors)\n",
    "\n",
    "    def save(self, filename, path=config.weight_path):\n",
    "        torch.save(self.eval_net.state_dict(), os.path.join(path, \"{}.pth\".format(filename)))\n",
    "        print(\"{} has been saved...\".format(filename))\n",
    "   \n",
    "    def load(self, filename, path=config.weight_path):\n",
    "        self.eval_net.load_state_dict(torch.load(os.path.join(path, \"{}.pth\".format(filename))))\n",
    "        self.target_net.load_state_dict(self.eval_net.state_dict())\n",
    "        print(\"{} has been loaded...\".format(filename))\n",
    "\n"
   ]
  },
  {
   "cell_type": "markdown",
   "id": "88388552",
   "metadata": {},
   "source": [
    "# testing to understand --------------------------------------------------------------"
   ]
  },
  {
   "cell_type": "code",
   "execution_count": 14,
   "id": "0fe00dea",
   "metadata": {},
   "outputs": [],
   "source": [
    "## dataset_0\n",
    "# seqs = ['ACCAGCGGGTTGCCGACGTAGCAGATA',\n",
    "#  'GCACTGTTGTTCCACGCATAGACA',\n",
    "#  'ACACCGTGGGTTCTCGACGGAGTGACA',\n",
    "#  'ACGAGGTGGGCGTTCCGACCAGGGAGGCC',\n",
    "#  'TACGGGGGTTTCCGACGAGCAGACA']\n",
    "\n",
    "\n",
    "# dataset_3\n",
    "seqs = [\"CACGTGGGCCGATCTAGAGACCGGTGGGGGGG\",\n",
    "    \"ACGACGGCATCTAGAGACCGGTGATGGG\",\n",
    "    \"CACGAGGATCTAGAGACGCGGTGATGTG\",\n",
    "    \"CACGAGGCGATCTAGAACCGGTGATGTG\",\n",
    "    \"CACGAGGCGATCTGAGGCCGGTGATGGT\"\n",
    "]\n",
    "\n",
    "# dataset_9\n",
    "seqs = [\n",
    "    \"GACGAGACTGGCATTATTCCTCGAA\",\n",
    "    \"GACGAGACCGGCAATATTCCTCGAA\",\n",
    "    \"GACGAGACCGGCAATATTCCTCCAA\",\n",
    "    \"GACGAGACCGGTAATATTCCTCGCCA\",\n",
    "    \"GGCGAGACCGGAATATTTCTCTCGTA\"\n",
    "]\n",
    "\n",
    "env = Environment(seqs)"
   ]
  },
  {
   "cell_type": "code",
   "execution_count": 15,
   "id": "4c869867",
   "metadata": {},
   "outputs": [
    {
     "data": {
      "text/plain": [
       "31"
      ]
     },
     "execution_count": 15,
     "metadata": {},
     "output_type": "execute_result"
    }
   ],
   "source": [
    "env.action_number"
   ]
  },
  {
   "cell_type": "code",
   "execution_count": 16,
   "id": "c59e66d3",
   "metadata": {},
   "outputs": [
    {
     "data": {
      "text/plain": [
       "5"
      ]
     },
     "execution_count": 16,
     "metadata": {},
     "output_type": "execute_result"
    }
   ],
   "source": [
    "env.row"
   ]
  },
  {
   "cell_type": "code",
   "execution_count": 17,
   "id": "140f995e",
   "metadata": {},
   "outputs": [
    {
     "data": {
      "text/plain": [
       "26"
      ]
     },
     "execution_count": 17,
     "metadata": {},
     "output_type": "execute_result"
    }
   ],
   "source": [
    "env.max_len  #this is what changes wrt each list of seqs, that's why we must instanciate a new env and model each time"
   ]
  },
  {
   "cell_type": "code",
   "execution_count": 32,
   "id": "a4b31ad3",
   "metadata": {},
   "outputs": [
    {
     "data": {
      "text/plain": [
       "40.0"
      ]
     },
     "execution_count": 32,
     "metadata": {},
     "output_type": "execute_result"
    }
   ],
   "source": [
    "env.max_reward"
   ]
  },
  {
   "cell_type": "code",
   "execution_count": 14,
   "id": "dd7bf645",
   "metadata": {},
   "outputs": [],
   "source": [
    "dqn_per = DQN_PER(env.action_number, env.row, env.max_len, env.max_len * env.max_reward)"
   ]
  },
  {
   "cell_type": "code",
   "execution_count": 15,
   "id": "c30f7b87",
   "metadata": {},
   "outputs": [],
   "source": [
    "# dqn_per.eval_net"
   ]
  },
  {
   "cell_type": "code",
   "execution_count": 16,
   "id": "ee2c118c",
   "metadata": {},
   "outputs": [
    {
     "name": "stdout",
     "output_type": "stream",
     "text": [
      "10.455203 M parameters\n"
     ]
    }
   ],
   "source": [
    "print(sum(p.numel() for p in dqn_per.eval_net.parameters())/1e6, 'M parameters')  "
   ]
  },
  {
   "cell_type": "code",
   "execution_count": 17,
   "id": "4a56a413",
   "metadata": {},
   "outputs": [],
   "source": [
    "import dataset3\n",
    "import dataset4\n",
    "import dataset5\n",
    "import dataset6"
   ]
  },
  {
   "cell_type": "code",
   "execution_count": 18,
   "id": "f0d3b36b",
   "metadata": {},
   "outputs": [],
   "source": [
    "dataset = dataset5"
   ]
  },
  {
   "cell_type": "code",
   "execution_count": 19,
   "id": "ce499302",
   "metadata": {
    "scrolled": true
   },
   "outputs": [
    {
     "name": "stdout",
     "output_type": "stream",
     "text": [
      "0\n",
      "1\n",
      "2\n",
      "3\n",
      "4\n",
      "5\n",
      "6\n",
      "7\n",
      "8\n",
      "9\n",
      "10\n",
      "11\n",
      "12\n",
      "13\n",
      "14\n",
      "15\n",
      "16\n",
      "17\n",
      "18\n",
      "19\n",
      "20\n",
      "21\n",
      "22\n",
      "23\n",
      "24\n"
     ]
    }
   ],
   "source": [
    "start= 0\n",
    "end= 25   #for comparison with zhang\n",
    "\n",
    "for index, name in enumerate(dataset.datasets[start:end if end != -1 else len(dataset.datasets)], start):\n",
    "    if not hasattr(dataset, name):\n",
    "        continue\n",
    "    seqs = getattr(dataset, name)\n",
    "#     print(seqs)\n",
    "    print(index)"
   ]
  },
  {
   "cell_type": "markdown",
   "id": "ccce547f",
   "metadata": {},
   "source": [
    "# ----------------------------------------------------------------------------------------------------"
   ]
  },
  {
   "cell_type": "code",
   "execution_count": null,
   "id": "c706055c",
   "metadata": {},
   "outputs": [],
   "source": []
  },
  {
   "cell_type": "markdown",
   "id": "6e3543a6",
   "metadata": {},
   "source": [
    "# Now the training fct\n",
    "\n",
    "* This trains the model for one list of sequences (i.e., seqs) for max_episode"
   ]
  },
  {
   "cell_type": "code",
   "execution_count": 40,
   "id": "1b0fd468",
   "metadata": {},
   "outputs": [],
   "source": [
    "def train(seqs, index):\n",
    "    # here we make a new agent and a new env for each seqs to train and evaluate seperately \n",
    "    # --------------------------------------------------------------------------------------\n",
    "    env = Environment(seqs)\n",
    "    dqn_per = DQN_PER(env.action_number, env.row, env.max_len, env.max_len * env.max_reward)\n",
    "    # -------------------------------------------------------------------------------------\n",
    "    total_steps = 0\n",
    "    rs = []\n",
    "    for episode in range(config.max_episode):\n",
    "        state = env.reset()\n",
    "        episode_reward = 0\n",
    "        while True:\n",
    "            action = dqn_per.select(state)\n",
    "            reward, next_state, done = env.step(action)\n",
    "            \n",
    "            transition = (state, next_state, action, reward, done)\n",
    "            dqn_per.replay_memory.push(transition)\n",
    "            dqn_per.update()\n",
    "\n",
    "            state = next_state\n",
    "            episode_reward += reward\n",
    "            total_steps += 1\n",
    "\n",
    "            if done:\n",
    "                break\n",
    "        \n",
    "        rs.append(episode_reward)\n",
    "        \n",
    "        dqn_per.update_epsilon()\n",
    "        dqn_per.update()\n",
    "        \n",
    "        if episode % 1000 == 0:\n",
    "            print('---------- trainining reached episode nbr:', episode)\n",
    "            print('---------- reward for this episode = ', episode_reward)\n",
    "            \n",
    "    print(\"done training for this sequence of index: \", index)\n",
    "    print(\"Episode: {}, Reward: {}, Epsilon: {:.4f}\".format(episode, episode_reward, dqn_per.current_epsilon))\n",
    "    \n",
    "    # here you will save 25 model, each for the corresponding dataset\n",
    "    fname = 'my_dqn_per_' + str(index) + '_'\n",
    "    dqn_per.save(fname)\n",
    "    # --------------------------------------------------------------\n",
    "    \n",
    "    print(\"done saving also for this sequence of index: \", index)\n",
    "    print(\"\\n\\n\")\n",
    "    \n",
    "    return rs"
   ]
  },
  {
   "cell_type": "code",
   "execution_count": 41,
   "id": "da0b5ae0",
   "metadata": {},
   "outputs": [],
   "source": [
    "# below code for one seqs list (6000 episodes) takes about  ~1h30min "
   ]
  },
  {
   "cell_type": "markdown",
   "id": "7a86d5da",
   "metadata": {},
   "source": [
    "### Call the train fct inside a loop for every seqs in the dataset"
   ]
  },
  {
   "cell_type": "code",
   "execution_count": null,
   "id": "36a0da87",
   "metadata": {},
   "outputs": [
    {
     "name": "stdout",
     "output_type": "stream",
     "text": [
      "----------- began at :  22:28:44.676275 --------------------\n",
      "\n",
      "---------- trainining reached episode nbr: 0\n",
      "---------- reward for this episode =  -32\n",
      "---------- trainining reached episode nbr: 100\n",
      "---------- reward for this episode =  -16\n",
      "---------- trainining reached episode nbr: 200\n",
      "---------- reward for this episode =  -40\n",
      "---------- trainining reached episode nbr: 300\n",
      "---------- reward for this episode =  -40\n"
     ]
    }
   ],
   "source": [
    "import datetime\n",
    "now = datetime.datetime.now()\n",
    "print(\"----------- began at : \", now.time(), \"--------------------\\n\")\n",
    "\n",
    "\n",
    "start= 0\n",
    "end= 25  #25 for comparison with zhang,  -1 for all datasets inside dataset5.py\n",
    "all_rewards = []\n",
    "for index, name in enumerate(dataset.datasets[start:end if end != -1 else len(dataset.datasets)], start):\n",
    "    if not hasattr(dataset, name):\n",
    "        continue\n",
    "    seqs = getattr(dataset, name)\n",
    "    \n",
    "    rwds_each_seq = train(seqs, index)\n",
    "    \n",
    "    all_rewards.append(rwds_each_seq)\n",
    "    \n",
    "    if index == 2:\n",
    "        break\n",
    "        \n",
    "import datetime\n",
    "now = datetime.datetime.now()\n",
    "print(\"\\n----------- finished at : \", now.time(), \"--------------------\")"
   ]
  },
  {
   "cell_type": "code",
   "execution_count": null,
   "id": "e345e6ed",
   "metadata": {},
   "outputs": [],
   "source": [
    "## save all rewards to csv\n",
    "# df = pd.DataFrame(all_rewards)\n",
    "# df.to_excel(\"all_rewards.xlsx\")"
   ]
  },
  {
   "cell_type": "markdown",
   "id": "195b110d",
   "metadata": {},
   "source": [
    "# Plot the rewards to see if there is any learning"
   ]
  },
  {
   "cell_type": "code",
   "execution_count": 48,
   "id": "2eb9a792",
   "metadata": {},
   "outputs": [
    {
     "data": {
      "text/plain": [
       "6000"
      ]
     },
     "execution_count": 48,
     "metadata": {},
     "output_type": "execute_result"
    }
   ],
   "source": [
    "len(all_rewards[0])"
   ]
  },
  {
   "cell_type": "code",
   "execution_count": null,
   "id": "04f8011d",
   "metadata": {},
   "outputs": [],
   "source": [
    "cols = [str(i) for i in range(25)]\n",
    "# cols"
   ]
  },
  {
   "cell_type": "code",
   "execution_count": 4,
   "id": "acff0c37",
   "metadata": {},
   "outputs": [],
   "source": [
    "# save all_rewards to csv file\n",
    "import pandas as pd"
   ]
  },
  {
   "cell_type": "code",
   "execution_count": null,
   "id": "1506d562",
   "metadata": {},
   "outputs": [],
   "source": [
    "# cols = [str(i) for i in range(len(all_rewards))]\n",
    "# df = pd.DataFrame(all_rewards, columns= cols)\n",
    "# df.to_csv('all_rewards.txt', header=None, index=None, sep='\\t', mode='a')"
   ]
  },
  {
   "cell_type": "code",
   "execution_count": 8,
   "id": "62c64c9d",
   "metadata": {},
   "outputs": [
    {
     "data": {
      "text/html": [
       "<div>\n",
       "<style scoped>\n",
       "    .dataframe tbody tr th:only-of-type {\n",
       "        vertical-align: middle;\n",
       "    }\n",
       "\n",
       "    .dataframe tbody tr th {\n",
       "        vertical-align: top;\n",
       "    }\n",
       "\n",
       "    .dataframe thead th {\n",
       "        text-align: right;\n",
       "    }\n",
       "</style>\n",
       "<table border=\"1\" class=\"dataframe\">\n",
       "  <thead>\n",
       "    <tr style=\"text-align: right;\">\n",
       "      <th></th>\n",
       "      <th>0</th>\n",
       "      <th>1</th>\n",
       "      <th>2</th>\n",
       "      <th>3</th>\n",
       "      <th>4</th>\n",
       "      <th>5</th>\n",
       "      <th>6</th>\n",
       "      <th>7</th>\n",
       "      <th>8</th>\n",
       "      <th>9</th>\n",
       "      <th>...</th>\n",
       "      <th>5990</th>\n",
       "      <th>5991</th>\n",
       "      <th>5992</th>\n",
       "      <th>5993</th>\n",
       "      <th>5994</th>\n",
       "      <th>5995</th>\n",
       "      <th>5996</th>\n",
       "      <th>5997</th>\n",
       "      <th>5998</th>\n",
       "      <th>5999</th>\n",
       "    </tr>\n",
       "  </thead>\n",
       "  <tbody>\n",
       "    <tr>\n",
       "      <th>0</th>\n",
       "      <td>-40</td>\n",
       "      <td>-40</td>\n",
       "      <td>-40</td>\n",
       "      <td>-32</td>\n",
       "      <td>-40</td>\n",
       "      <td>-40</td>\n",
       "      <td>-40</td>\n",
       "      <td>-40</td>\n",
       "      <td>-40</td>\n",
       "      <td>-40</td>\n",
       "      <td>...</td>\n",
       "      <td>-16</td>\n",
       "      <td>-16</td>\n",
       "      <td>-16</td>\n",
       "      <td>-16</td>\n",
       "      <td>-16</td>\n",
       "      <td>-16</td>\n",
       "      <td>-16</td>\n",
       "      <td>-16</td>\n",
       "      <td>-16</td>\n",
       "      <td>-16</td>\n",
       "    </tr>\n",
       "    <tr>\n",
       "      <th>1</th>\n",
       "      <td>-32</td>\n",
       "      <td>-40</td>\n",
       "      <td>-40</td>\n",
       "      <td>-32</td>\n",
       "      <td>-40</td>\n",
       "      <td>-40</td>\n",
       "      <td>-32</td>\n",
       "      <td>-32</td>\n",
       "      <td>-40</td>\n",
       "      <td>-40</td>\n",
       "      <td>...</td>\n",
       "      <td>-16</td>\n",
       "      <td>-16</td>\n",
       "      <td>-16</td>\n",
       "      <td>-16</td>\n",
       "      <td>-16</td>\n",
       "      <td>-16</td>\n",
       "      <td>-16</td>\n",
       "      <td>-16</td>\n",
       "      <td>-16</td>\n",
       "      <td>-16</td>\n",
       "    </tr>\n",
       "    <tr>\n",
       "      <th>2</th>\n",
       "      <td>-32</td>\n",
       "      <td>-32</td>\n",
       "      <td>-32</td>\n",
       "      <td>-16</td>\n",
       "      <td>-40</td>\n",
       "      <td>-16</td>\n",
       "      <td>-32</td>\n",
       "      <td>-16</td>\n",
       "      <td>-32</td>\n",
       "      <td>-16</td>\n",
       "      <td>...</td>\n",
       "      <td>8</td>\n",
       "      <td>8</td>\n",
       "      <td>8</td>\n",
       "      <td>8</td>\n",
       "      <td>8</td>\n",
       "      <td>8</td>\n",
       "      <td>8</td>\n",
       "      <td>8</td>\n",
       "      <td>8</td>\n",
       "      <td>8</td>\n",
       "    </tr>\n",
       "    <tr>\n",
       "      <th>3</th>\n",
       "      <td>-40</td>\n",
       "      <td>-40</td>\n",
       "      <td>-40</td>\n",
       "      <td>-16</td>\n",
       "      <td>-40</td>\n",
       "      <td>-16</td>\n",
       "      <td>-40</td>\n",
       "      <td>-16</td>\n",
       "      <td>-32</td>\n",
       "      <td>-16</td>\n",
       "      <td>...</td>\n",
       "      <td>8</td>\n",
       "      <td>8</td>\n",
       "      <td>8</td>\n",
       "      <td>8</td>\n",
       "      <td>8</td>\n",
       "      <td>8</td>\n",
       "      <td>8</td>\n",
       "      <td>8</td>\n",
       "      <td>8</td>\n",
       "      <td>8</td>\n",
       "    </tr>\n",
       "    <tr>\n",
       "      <th>4</th>\n",
       "      <td>-40</td>\n",
       "      <td>-40</td>\n",
       "      <td>-16</td>\n",
       "      <td>-40</td>\n",
       "      <td>-40</td>\n",
       "      <td>-40</td>\n",
       "      <td>-40</td>\n",
       "      <td>-32</td>\n",
       "      <td>-40</td>\n",
       "      <td>-40</td>\n",
       "      <td>...</td>\n",
       "      <td>-16</td>\n",
       "      <td>-16</td>\n",
       "      <td>-16</td>\n",
       "      <td>-16</td>\n",
       "      <td>-16</td>\n",
       "      <td>-16</td>\n",
       "      <td>-16</td>\n",
       "      <td>-16</td>\n",
       "      <td>-16</td>\n",
       "      <td>-16</td>\n",
       "    </tr>\n",
       "  </tbody>\n",
       "</table>\n",
       "<p>5 rows × 6000 columns</p>\n",
       "</div>"
      ],
      "text/plain": [
       "   0     1     2     3     4     5     6     7     8     9     ...  5990  \\\n",
       "0   -40   -40   -40   -32   -40   -40   -40   -40   -40   -40  ...   -16   \n",
       "1   -32   -40   -40   -32   -40   -40   -32   -32   -40   -40  ...   -16   \n",
       "2   -32   -32   -32   -16   -40   -16   -32   -16   -32   -16  ...     8   \n",
       "3   -40   -40   -40   -16   -40   -16   -40   -16   -32   -16  ...     8   \n",
       "4   -40   -40   -16   -40   -40   -40   -40   -32   -40   -40  ...   -16   \n",
       "\n",
       "   5991  5992  5993  5994  5995  5996  5997  5998  5999  \n",
       "0   -16   -16   -16   -16   -16   -16   -16   -16   -16  \n",
       "1   -16   -16   -16   -16   -16   -16   -16   -16   -16  \n",
       "2     8     8     8     8     8     8     8     8     8  \n",
       "3     8     8     8     8     8     8     8     8     8  \n",
       "4   -16   -16   -16   -16   -16   -16   -16   -16   -16  \n",
       "\n",
       "[5 rows x 6000 columns]"
      ]
     },
     "execution_count": 8,
     "metadata": {},
     "output_type": "execute_result"
    }
   ],
   "source": [
    "all_rewards = pd.read_csv('all_rewards.txt', sep='\\t', header=None)\n",
    "all_rewards.head()"
   ]
  },
  {
   "cell_type": "code",
   "execution_count": 11,
   "id": "b96cd738",
   "metadata": {},
   "outputs": [
    {
     "data": {
      "text/plain": [
       "(25, 6000)"
      ]
     },
     "execution_count": 11,
     "metadata": {},
     "output_type": "execute_result"
    }
   ],
   "source": [
    "all_rewards.shape"
   ]
  },
  {
   "cell_type": "code",
   "execution_count": 13,
   "id": "1af35349",
   "metadata": {},
   "outputs": [
    {
     "data": {
      "text/plain": [
       "(6000, 25)"
      ]
     },
     "execution_count": 13,
     "metadata": {},
     "output_type": "execute_result"
    }
   ],
   "source": [
    "all_rs = all_rewards.transpose()\n",
    "all_rs.shape"
   ]
  },
  {
   "cell_type": "code",
   "execution_count": 14,
   "id": "be05f87a",
   "metadata": {},
   "outputs": [
    {
     "data": {
      "text/plain": [
       "(6000,)"
      ]
     },
     "execution_count": 14,
     "metadata": {},
     "output_type": "execute_result"
    }
   ],
   "source": [
    "x = np.array(all_rs[0])\n",
    "x.shape"
   ]
  },
  {
   "cell_type": "code",
   "execution_count": 17,
   "id": "b5d9563e",
   "metadata": {},
   "outputs": [],
   "source": [
    "def moving_average(values, window):\n",
    "    weights = np.repeat(1.0, window) / window\n",
    "    ma = np.convolve(values, weights, 'valid')\n",
    "    return ma\n",
    "\n",
    "window_size = 600\n",
    "y = moving_average(x, window_size)"
   ]
  },
  {
   "cell_type": "code",
   "execution_count": 18,
   "id": "49ac1cdb",
   "metadata": {},
   "outputs": [
    {
     "data": {
      "text/plain": [
       "(5401,)"
      ]
     },
     "execution_count": 18,
     "metadata": {},
     "output_type": "execute_result"
    }
   ],
   "source": [
    "y.shape"
   ]
  },
  {
   "cell_type": "code",
   "execution_count": 19,
   "id": "55479ade",
   "metadata": {},
   "outputs": [
    {
     "data": {
      "text/plain": [
       "[<matplotlib.lines.Line2D at 0x220fc6354c8>]"
      ]
     },
     "execution_count": 19,
     "metadata": {},
     "output_type": "execute_result"
    },
    {
     "data": {
      "image/png": "[encoded data removed]",
      "text/plain": [
       "<Figure size 640x480 with 1 Axes>"
      ]
     },
     "metadata": {},
     "output_type": "display_data"
    }
   ],
   "source": [
    "import matplotlib.pyplot as plt\n",
    "plt.plot(y)"
   ]
  },
  {
   "cell_type": "code",
   "execution_count": null,
   "id": "1c09ddf4",
   "metadata": {},
   "outputs": [],
   "source": []
  }
 ],
 "metadata": {
  "kernelspec": {
   "display_name": "Python 3 (ipykernel)",
   "language": "python",
   "name": "python3"
  },
  "language_info": {
   "codemirror_mode": {
    "name": "ipython",
    "version": 3
   },
   "file_extension": ".py",
   "mimetype": "text/x-python",
   "name": "python",
   "nbconvert_exporter": "python",
   "pygments_lexer": "ipython3",
   "version": "3.10.11"
  }
 },
 "nbformat": 4,
 "nbformat_minor": 5
}
