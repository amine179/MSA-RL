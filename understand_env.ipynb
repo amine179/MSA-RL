{
 "cells": [
  {
   "cell_type": "code",
   "execution_count": 1,
   "id": "36fc150a",
   "metadata": {},
   "outputs": [],
   "source": [
    "import platform\n",
    "import numpy as np\n",
    "import tkinter as tk\n",
    "import tkinter.font as tf\n",
    "import copy\n",
    "import config\n",
    "from itertools import combinations\n",
    "\n",
    "colors = [\"#FFFFFF\", \"#5CB85C\", \"#5BC0DE\", \"#F0AD4E\", \"#D9534F\", \"#808080\"]\n",
    "nucleotides_map = {'A': 1, 'T': 2, 'C': 3, 'G': 4, 'a': 1, 't': 2, 'c': 3, 'g': 4, '-': 5}\n",
    "nucleotides = ['A', 'T', 'C', 'G', '-']\n",
    "\n",
    "\n",
    "class Environment:\n",
    "    def __init__(self, data,\n",
    "                 nucleotide_size=50, text_size=25,\n",
    "                 show_nucleotide_name=True):\n",
    "        \n",
    "        self.data = [[nucleotides_map[data[i][j]] for j in range(len(data[i]))] for i in range(len(data))]\n",
    "        self.row = len(data)\n",
    "        self.max_len = max([len(data[i]) for i in range(len(data))])\n",
    "        self.show_nucleotide_name = show_nucleotide_name\n",
    "        self.nucleotide_size = nucleotide_size\n",
    "        self.max_window_width = 1800\n",
    "        self.text_size = text_size\n",
    "\n",
    "        self.action_number = 2 ** self.row - 1\n",
    "\n",
    "        self.max_reward = self.row * (self.row - 1) / 2 * config.MATCH_REWARD\n",
    "\n",
    "        self.aligned = [[] for _ in range(self.row)]\n",
    "        self.not_aligned = copy.deepcopy(self.data)\n",
    "\n",
    "        if platform.system() == \"Windows\":\n",
    "            self.window = tk.Tk()\n",
    "            self.__init_size()\n",
    "            self.__init_window()\n",
    "            self.__init_canvas()\n",
    "\n",
    "    def __action_combination(self):\n",
    "        res = []\n",
    "        for i in range(self.row + 1):\n",
    "            combs = list(combinations(range(self.row), i))\n",
    "\n",
    "            for j in combs:\n",
    "                a = np.zeros(self.row)\n",
    "                for k in j:\n",
    "                    a[k] = 1\n",
    "                res.append(a)\n",
    "\n",
    "        res.pop()\n",
    "\n",
    "        return res\n",
    "\n",
    "    def __init_size(self):\n",
    "        self.window_default_width = (self.max_len + 2) * self.nucleotide_size if \\\n",
    "            (self.max_len + 2) * self.nucleotide_size < self.max_window_width else self.max_window_width\n",
    "\n",
    "        self.window_default_height = self.nucleotide_size * (2 * self.row + 2) + 40\n",
    "        self.nucleotide_font = tf.Font(family=\"bold\", size=self.text_size * 2 // 3, weight=tf.BOLD)\n",
    "\n",
    "    def __init_window(self):\n",
    "        self.window.maxsize(self.window_default_width, self.window_default_height)\n",
    "        self.window.minsize(self.window_default_width, self.window_default_height)\n",
    "        self.window.title(\"Multiple Sequence Alignment\")\n",
    "\n",
    "    def __init_canvas(self):\n",
    "        self.frame = tk.Frame(self.window, width=self.window_default_width,\n",
    "                              height=self.window_default_height)\n",
    "        self.frame.pack()\n",
    "\n",
    "        self.canvas = tk.Canvas(self.frame, width=self.nucleotide_size * (self.max_len + 1),\n",
    "                                height=self.nucleotide_size * (self.row + 1),\n",
    "                                scrollregion=(\n",
    "                                    0, 0, self.nucleotide_size * (len(self.aligned[0]) + 1),\n",
    "                                    self.nucleotide_size * (self.row + 1)))\n",
    "\n",
    "        self.scroll = tk.Scrollbar(self.frame, orient=\"horizontal\", width=20)\n",
    "        self.scroll.pack(side=tk.BOTTOM, fill=tk.X)\n",
    "        self.scroll.config(command=self.canvas.xview)\n",
    "        self.canvas.config(xscrollcommand=self.scroll.set, width=self.max_window_width,\n",
    "                           height=self.window_default_height)\n",
    "\n",
    "        self.canvas.pack(side=tk.LEFT, fill=tk.BOTH, expand=True)\n",
    "\n",
    "    def __get_current_state(self):\n",
    "        state = []\n",
    "        for i in range(self.row):\n",
    "            state.extend((self.not_aligned[i][j] if j < len(self.not_aligned[i]) else 5)\n",
    "                         for j in range(len(self.not_aligned[i]) + 1))\n",
    "\n",
    "        state.extend([0 for _ in range(self.row * (self.max_len + 1) - len(state))])\n",
    "        return state\n",
    "\n",
    "    def __calc_reward(self):\n",
    "        score = 0\n",
    "        tail = len(self.aligned[0]) - 1\n",
    "        for j in range(self.row):\n",
    "            for k in range(j + 1, self.row):\n",
    "                if self.aligned[j][tail] == 5 or self.aligned[k][tail] == 5:\n",
    "                    score += config.GAP_PENALTY\n",
    "                elif self.aligned[j][tail] == self.aligned[k][tail]:\n",
    "                    score += config.MATCH_REWARD\n",
    "                elif self.aligned[j][tail] != self.aligned[k][tail]:\n",
    "                    score += config.MISMATCH_PENALTY\n",
    "\n",
    "        return score\n",
    "\n",
    "    def __show_alignment(self):\n",
    "        self.canvas.delete(tk.ALL)\n",
    "        rx_start = self.nucleotide_size // 2\n",
    "        ry_start = self.nucleotide_size // 2\n",
    "        nx_start = self.nucleotide_size\n",
    "        ny_start = self.nucleotide_size\n",
    "        for i in range(self.row):\n",
    "            for j in range(len(self.aligned[i])):\n",
    "                self.canvas.create_rectangle(j * self.nucleotide_size + rx_start,\n",
    "                                             i * self.nucleotide_size + ry_start,\n",
    "                                             (j + 1) * self.nucleotide_size + rx_start,\n",
    "                                             (i + 1) * self.nucleotide_size + ry_start,\n",
    "                                             fill=colors[self.aligned[i][j]], outline=\"#757575\")\n",
    "                if self.show_nucleotide_name:\n",
    "                    self.canvas.create_text(j * self.nucleotide_size + nx_start,\n",
    "                                            i * self.nucleotide_size + ny_start,\n",
    "                                            text=nucleotides[self.aligned[i][j] - 1],\n",
    "                                            font=self.nucleotide_font,\n",
    "                                            fill=\"white\")\n",
    "\n",
    "        ry_start += (self.row + 1) * self.nucleotide_size\n",
    "        ny_start += (self.row + 1) * self.nucleotide_size\n",
    "        for i in range(self.row):\n",
    "            for j in range(len(self.not_aligned[i])):\n",
    "                self.canvas.create_rectangle(j * self.nucleotide_size + rx_start,\n",
    "                                             i * self.nucleotide_size + ry_start,\n",
    "                                             (j + 1) * self.nucleotide_size + rx_start,\n",
    "                                             (i + 1) * self.nucleotide_size + ry_start,\n",
    "                                             fill=colors[self.not_aligned[i][j]], outline=\"#757575\")\n",
    "                if self.show_nucleotide_name:\n",
    "                    self.canvas.create_text(j * self.nucleotide_size + nx_start,\n",
    "                                            i * self.nucleotide_size + ny_start,\n",
    "                                            text=nucleotides[self.not_aligned[i][j] - 1],\n",
    "                                            font=self.nucleotide_font,\n",
    "                                            fill=\"white\")\n",
    "\n",
    "        scroll_width = len(self.aligned[0]) if len(self.aligned[0]) > len(self.not_aligned[0]) else \\\n",
    "            len(self.not_aligned[0])\n",
    "        self.canvas['scrollregion'] = (0, 0, self.nucleotide_size * (scroll_width + 1),\n",
    "                                       self.nucleotide_size * (self.row + 1))\n",
    "        self.window.update()\n",
    "\n",
    "    def reset(self):\n",
    "        self.aligned = [[] for _ in range(self.row)]\n",
    "        self.not_aligned = copy.deepcopy(self.data)\n",
    "        return self.__get_current_state()\n",
    "\n",
    "    def step(self, action):\n",
    "        for bit in range(self.row):\n",
    "            if 0 == (action >> bit) & 0x1 and 0 == len(self.not_aligned[bit]):\n",
    "                return -self.max_reward, self.__get_current_state(), 0\n",
    "\n",
    "        total_len = 0\n",
    "        for bit in range(self.row):\n",
    "            if 0 == (action >> bit) & 0x1:\n",
    "                self.aligned[bit].append(self.not_aligned[bit][0])\n",
    "                self.not_aligned[bit].pop(0)\n",
    "            else:\n",
    "                self.aligned[bit].append(5)\n",
    "            total_len += len(self.not_aligned[bit])\n",
    "\n",
    "        return self.__calc_reward(), self.__get_current_state(), 1 if total_len > 0 else 0\n",
    "\n",
    "    def calc_score(self):\n",
    "        score = 0\n",
    "        for i in range(len(self.aligned[0])):\n",
    "            for j in range(self.row):\n",
    "                for k in range(j + 1, self.row):\n",
    "                    if self.aligned[j][i] == 5 or self.aligned[k][i] == 5:\n",
    "                        score += config.GAP_PENALTY\n",
    "                    elif self.aligned[j][i] == self.aligned[k][i]:\n",
    "                        score += config.MATCH_REWARD\n",
    "                    elif self.aligned[j][i] != self.aligned[k][i]:\n",
    "                        score += config.MISMATCH_PENALTY\n",
    "\n",
    "        return score\n",
    "\n",
    "    def calc_exact_matched(self):\n",
    "        score = 0\n",
    "\n",
    "        for i in range(len(self.aligned[0])):\n",
    "            n = self.aligned[0][i]\n",
    "            flag = True\n",
    "            for j in range(1, self.row):\n",
    "                if n != self.aligned[j][i]:\n",
    "                    flag = False\n",
    "                    break\n",
    "            if flag:\n",
    "                score += 1\n",
    "\n",
    "        return score\n",
    "\n",
    "    def set_alignment(self, seqs):\n",
    "        self.aligned = [[nucleotides_map[seqs[i][j]] for j in range(len(seqs[i]))] for i in range(len(seqs))]\n",
    "        self.not_aligned = [[] for _ in range(len(self.data))]\n",
    "\n",
    "    def render(self):\n",
    "        if platform.system() == \"Windows\":\n",
    "            self.__show_alignment()\n",
    "\n",
    "    def get_alignment(self):\n",
    "        alignment = \"\"\n",
    "        for i in range(len(self.aligned)):\n",
    "            alignment += ''.join([nucleotides[self.aligned[i][j] - 1] for j in range(len(self.aligned[i]))]) + '\\n'\n",
    "\n",
    "        return alignment.rstrip()\n",
    "\n",
    "    def padding(self):\n",
    "        max_length = 0\n",
    "        for i in range(len(self.not_aligned)):\n",
    "            max_length = max(max_length, len(self.not_aligned[i]))\n",
    "\n",
    "        for i in range(len(self.not_aligned)):\n",
    "            self.aligned[i].extend(self.not_aligned[i])\n",
    "            self.aligned[i].extend([5 for _ in range(max_length - len(self.not_aligned[i]))])\n",
    "            self.not_aligned[i].clear()\n"
   ]
  },
  {
   "cell_type": "code",
   "execution_count": null,
   "id": "6d0e796d",
   "metadata": {},
   "outputs": [],
   "source": []
  },
  {
   "cell_type": "markdown",
   "id": "60476af6",
   "metadata": {},
   "source": [
    "# ----------------------------------------------------------------------------------------------"
   ]
  },
  {
   "cell_type": "code",
   "execution_count": 1,
   "id": "d00cd14b",
   "metadata": {},
   "outputs": [],
   "source": [
    "import dataset5"
   ]
  },
  {
   "cell_type": "code",
   "execution_count": 2,
   "id": "c9d8c8e2",
   "metadata": {},
   "outputs": [],
   "source": [
    "dataset = dataset5"
   ]
  },
  {
   "cell_type": "code",
   "execution_count": 3,
   "id": "1adf777b",
   "metadata": {},
   "outputs": [
    {
     "data": {
      "text/plain": [
       "<module 'dataset5' from 'C:\\\\Users\\\\Amine\\\\Desktop\\\\help_freinds\\\\chaimaa_gad\\\\SOTA_seq_align\\\\6_DNPMSA-2022\\\\DPAMSA-python\\\\dataset5.py'>"
      ]
     },
     "execution_count": 3,
     "metadata": {},
     "output_type": "execute_result"
    }
   ],
   "source": [
    "dataset"
   ]
  },
  {
   "cell_type": "code",
   "execution_count": 4,
   "id": "561b7513",
   "metadata": {},
   "outputs": [],
   "source": [
    "start = 0\n",
    "end = 1"
   ]
  },
  {
   "cell_type": "code",
   "execution_count": 5,
   "id": "b24e8437",
   "metadata": {},
   "outputs": [],
   "source": [
    "for i, name in enumerate(dataset.datasets[start:end if end != -1 else len(dataset.datasets)], start):\n",
    "#     print(i, name)\n",
    "    if not hasattr(dataset, name):\n",
    "        continue\n",
    "    seqs = getattr(dataset, name)"
   ]
  },
  {
   "cell_type": "code",
   "execution_count": 6,
   "id": "33ba5087",
   "metadata": {},
   "outputs": [
    {
     "data": {
      "text/plain": [
       "['dataset_0']"
      ]
     },
     "execution_count": 6,
     "metadata": {},
     "output_type": "execute_result"
    }
   ],
   "source": [
    "dataset.datasets[start:end if end != -1 else len(dataset.datasets)]"
   ]
  },
  {
   "cell_type": "code",
   "execution_count": 7,
   "id": "e158d2d9",
   "metadata": {},
   "outputs": [
    {
     "data": {
      "text/plain": [
       "['ACCAGCGGGTTGCCGACGTAGCAGATA',\n",
       " 'GCACTGTTGTTCCACGCATAGACA',\n",
       " 'ACACCGTGGGTTCTCGACGGAGTGACA',\n",
       " 'ACGAGGTGGGCGTTCCGACCAGGGAGGCC',\n",
       " 'TACGGGGGTTTCCGACGAGCAGACA']"
      ]
     },
     "execution_count": 7,
     "metadata": {},
     "output_type": "execute_result"
    }
   ],
   "source": [
    "seqs = getattr(dataset, name)\n",
    "seqs"
   ]
  },
  {
   "cell_type": "code",
   "execution_count": 35,
   "id": "11f92143",
   "metadata": {},
   "outputs": [
    {
     "name": "stdout",
     "output_type": "stream",
     "text": [
      "29\n"
     ]
    }
   ],
   "source": [
    "l1 = len(seqs[0])\n",
    "l2 = len(seqs[1])\n",
    "l3 = len(seqs[2])\n",
    "l4 = len(seqs[3])\n",
    "l5 = len(seqs[4])\n",
    "\n",
    "print(max(l1, l2, l3, l4, l5))"
   ]
  },
  {
   "cell_type": "code",
   "execution_count": 9,
   "id": "87d5f464",
   "metadata": {},
   "outputs": [],
   "source": [
    "from env import Environment"
   ]
  },
  {
   "cell_type": "code",
   "execution_count": 10,
   "id": "6918afd9",
   "metadata": {},
   "outputs": [],
   "source": [
    "env = Environment(seqs)"
   ]
  },
  {
   "cell_type": "code",
   "execution_count": 61,
   "id": "1b726836",
   "metadata": {},
   "outputs": [
    {
     "data": {
      "text/plain": [
       "31"
      ]
     },
     "execution_count": 61,
     "metadata": {},
     "output_type": "execute_result"
    }
   ],
   "source": [
    "action_number = 2 ** len(seqs) - 1 \n",
    "action_number   ### 31"
   ]
  },
  {
   "cell_type": "code",
   "execution_count": 86,
   "id": "91a56903",
   "metadata": {},
   "outputs": [
    {
     "data": {
      "text/plain": [
       "False"
      ]
     },
     "execution_count": 86,
     "metadata": {},
     "output_type": "execute_result"
    }
   ],
   "source": [
    "'AC-CAGCGGGTTGCCGACGTAGCAGATA-----' == 'AC-CAGCGGG-TTGCCGACGTAGCAGAT-A--'"
   ]
  },
  {
   "cell_type": "code",
   "execution_count": 83,
   "id": "a8901def",
   "metadata": {
    "scrolled": true
   },
   "outputs": [
    {
     "data": {
      "text/plain": [
       "24"
      ]
     },
     "execution_count": 83,
     "metadata": {},
     "output_type": "execute_result"
    }
   ],
   "source": [
    "a = [1, 4, 3, 5]\n",
    "\n",
    "import itertools\n",
    "hh = list(itertools.permutations(a))\n",
    "len(hh)\n",
    "# hh"
   ]
  },
  {
   "cell_type": "code",
   "execution_count": 84,
   "id": "a4a3fcbf",
   "metadata": {},
   "outputs": [
    {
     "data": {
      "text/plain": [
       "6"
      ]
     },
     "execution_count": 84,
     "metadata": {},
     "output_type": "execute_result"
    }
   ],
   "source": [
    "a = [4, 3, 5]\n",
    "\n",
    "import itertools\n",
    "hh = list(itertools.permutations(a))\n",
    "len(hh)\n",
    "# hh"
   ]
  },
  {
   "cell_type": "code",
   "execution_count": 85,
   "id": "a05f67bb",
   "metadata": {},
   "outputs": [
    {
     "data": {
      "text/plain": [
       "2"
      ]
     },
     "execution_count": 85,
     "metadata": {},
     "output_type": "execute_result"
    }
   ],
   "source": [
    "a = [3, 5]\n",
    "\n",
    "import itertools\n",
    "hh = list(itertools.permutations(a))\n",
    "len(hh)\n",
    "# hh        \n",
    "### hna ka nakhdo a whda o nsaliw (dakchi 3lach ki dir -1 f l3ala9a (2**self.row-1))"
   ]
  },
  {
   "cell_type": "code",
   "execution_count": 54,
   "id": "f5a64d24",
   "metadata": {},
   "outputs": [
    {
     "data": {
      "text/plain": [
       "1160.0"
      ]
     },
     "execution_count": 54,
     "metadata": {},
     "output_type": "execute_result"
    }
   ],
   "source": [
    "max_value = env.max_len * env.max_reward    \n",
    "max_value"
   ]
  },
  {
   "cell_type": "code",
   "execution_count": 45,
   "id": "f549b8c1",
   "metadata": {},
   "outputs": [
    {
     "data": {
      "text/plain": [
       "40.0"
      ]
     },
     "execution_count": 45,
     "metadata": {},
     "output_type": "execute_result"
    }
   ],
   "source": [
    "env.max_reward "
   ]
  },
  {
   "cell_type": "code",
   "execution_count": 50,
   "id": "6a3742b5",
   "metadata": {},
   "outputs": [
    {
     "data": {
      "text/plain": [
       "40.0"
      ]
     },
     "execution_count": 50,
     "metadata": {},
     "output_type": "execute_result"
    }
   ],
   "source": [
    "5*4 /2  *4"
   ]
  },
  {
   "cell_type": "code",
   "execution_count": 60,
   "id": "ebe0a781",
   "metadata": {},
   "outputs": [
    {
     "data": {
      "text/plain": [
       "5"
      ]
     },
     "execution_count": 60,
     "metadata": {},
     "output_type": "execute_result"
    }
   ],
   "source": [
    "env.row"
   ]
  },
  {
   "cell_type": "code",
   "execution_count": 55,
   "id": "c1fa1757",
   "metadata": {},
   "outputs": [
    {
     "data": {
      "text/plain": [
       "40.0"
      ]
     },
     "execution_count": 55,
     "metadata": {},
     "output_type": "execute_result"
    }
   ],
   "source": [
    "max_reward = env.row * (env.row - 1) / 2 * config.MATCH_REWARD\n",
    "max_reward     # ????"
   ]
  },
  {
   "cell_type": "code",
   "execution_count": null,
   "id": "3b65dd51",
   "metadata": {},
   "outputs": [],
   "source": []
  },
  {
   "cell_type": "markdown",
   "id": "3c6f4943",
   "metadata": {},
   "source": [
    "## ---------- Attributes:"
   ]
  },
  {
   "cell_type": "code",
   "execution_count": 59,
   "id": "3b000165",
   "metadata": {
    "scrolled": true
   },
   "outputs": [
    {
     "name": "stdout",
     "output_type": "stream",
     "text": [
      "\n",
      " 31\n"
     ]
    }
   ],
   "source": [
    "print('\\n', env.action_number) #dialach hadik 31 (jouj li zaydin)\n",
    "# print('\\n', env.aligned)\n",
    "# print('\\n', env.canvas)\n",
    "# print('\\n', env.data)\n",
    "# print('\\n', env.frame)\n",
    "# print('\\n', env.max_len)\n",
    "# print('\\n', env.max_reward)\n",
    "# print('\\n', env.max_window_width)\n",
    "# print('\\n', env.not_aligned)\n",
    "# print('\\n', env.nucleotide_font)\n",
    "# print('\\n', env.nucleotide_size)\n",
    "# print('\\n', env.row)\n",
    "# print('\\n', env.scroll)\n",
    "# print('\\n', env.show_nucleotide_name)\n",
    "# print('\\n', env.text_size)\n",
    "# print('\\n', env.window)\n",
    "# print('\\n', env.window_default_height)\n",
    "# print('\\n', env.window_default_width)"
   ]
  },
  {
   "cell_type": "markdown",
   "id": "fcdc38d3",
   "metadata": {},
   "source": [
    "## ----------- Methods:"
   ]
  },
  {
   "cell_type": "code",
   "execution_count": 31,
   "id": "1fcbf0c3",
   "metadata": {
    "scrolled": true
   },
   "outputs": [
    {
     "name": "stdout",
     "output_type": "stream",
     "text": [
      "\n",
      " ACCAGCGGGTTGCCGACGTAGCAGATA\n",
      "GCACTGTTGTTCCACGCATAGACA\n",
      "ACACCGTGGGTTCTCGACGGAGTGACA\n",
      "ACGAGGTGGGCGTTCCGACCAGGGAGGCC\n",
      "TACGGGGGTTTCCGACGAGCAGACA\n",
      "\n",
      " None\n",
      "\n",
      " [1, 3, 3, 1, 4, 3, 4, 4, 4, 2, 2, 4, 3, 3, 4, 1, 3, 4, 2, 1, 4, 3, 1, 4, 1, 2, 1, 5, 4, 3, 1, 3, 2, 4, 2, 2, 4, 2, 2, 3, 3, 1, 3, 4, 3, 1, 2, 1, 4, 1, 3, 1, 5, 1, 3, 1, 3, 3, 4, 2, 4, 4, 4, 2, 2, 3, 2, 3, 4, 1, 3, 4, 4, 1, 4, 2, 4, 1, 3, 1, 5, 1, 3, 4, 1, 4, 4, 2, 4, 4, 4, 3, 4, 2, 2, 3, 3, 4, 1, 3, 3, 1, 4, 4, 4, 1, 4, 4, 3, 3, 5, 2, 1, 3, 4, 4, 4, 4, 4, 2, 2, 2, 3, 3, 4, 1, 3, 4, 1, 4, 3, 1, 4, 1, 3, 1, 5, 0, 0, 0, 0, 0, 0, 0, 0, 0, 0, 0, 0, 0]\n",
      "\n",
      " None\n",
      "\n",
      " (-40.0, [5, 5, 5, 5, 5, 0, 0, 0, 0, 0, 0, 0, 0, 0, 0, 0, 0, 0, 0, 0, 0, 0, 0, 0, 0, 0, 0, 0, 0, 0, 0, 0, 0, 0, 0, 0, 0, 0, 0, 0, 0, 0, 0, 0, 0, 0, 0, 0, 0, 0, 0, 0, 0, 0, 0, 0, 0, 0, 0, 0, 0, 0, 0, 0, 0, 0, 0, 0, 0, 0, 0, 0, 0, 0, 0, 0, 0, 0, 0, 0, 0, 0, 0, 0, 0, 0, 0, 0, 0, 0, 0, 0, 0, 0, 0, 0, 0, 0, 0, 0, 0, 0, 0, 0, 0, 0, 0, 0, 0, 0, 0, 0, 0, 0, 0, 0, 0, 0, 0, 0, 0, 0, 0, 0, 0, 0, 0, 0, 0, 0, 0, 0, 0, 0, 0, 0, 0, 0, 0, 0, 0, 0, 0, 0, 0, 0, 0, 0, 0, 0], 0)\n",
      "\n",
      " None\n"
     ]
    }
   ],
   "source": [
    "# print('\\n', env.calc_exact_matched())\n",
    "# print('\\n', env.calc_score())\n",
    "print('\\n', env.get_alignment())\n",
    "print('\\n', env.padding())\n",
    "# print('\\n', env.render()) it uses tkinter, it may stop ipynb from working\n",
    "print('\\n', env.reset())\n",
    "print('\\n', env.set_alignment(seqs))\n",
    "print('\\n', env.step(action=3))\n",
    "print('\\n', env.set_alignment(seqs))"
   ]
  },
  {
   "cell_type": "code",
   "execution_count": null,
   "id": "dc4b2911",
   "metadata": {
    "scrolled": true
   },
   "outputs": [],
   "source": []
  },
  {
   "cell_type": "code",
   "execution_count": null,
   "id": "6a1acc1d",
   "metadata": {},
   "outputs": [],
   "source": []
  },
  {
   "cell_type": "code",
   "execution_count": null,
   "id": "db83d169",
   "metadata": {},
   "outputs": [],
   "source": []
  }
 ],
 "metadata": {
  "kernelspec": {
   "display_name": "Python 3 (ipykernel)",
   "language": "python",
   "name": "python3"
  },
  "language_info": {
   "codemirror_mode": {
    "name": "ipython",
    "version": 3
   },
   "file_extension": ".py",
   "mimetype": "text/x-python",
   "name": "python",
   "nbconvert_exporter": "python",
   "pygments_lexer": "ipython3",
   "version": "3.7.9"
  }
 },
 "nbformat": 4,
 "nbformat_minor": 5
}
